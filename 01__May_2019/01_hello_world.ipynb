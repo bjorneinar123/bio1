{
  "nbformat": 4,
  "nbformat_minor": 0,
  "metadata": {
    "colab": {
      "name": "01_hello_world.ipynb",
      "version": "0.3.2",
      "provenance": [],
      "collapsed_sections": []
    },
    "kernelspec": {
      "name": "python3",
      "display_name": "Python 3"
    }
  },
  "cells": [
    {
      "cell_type": "markdown",
      "metadata": {
        "id": "4AgFHpLz0dqC",
        "colab_type": "text"
      },
      "source": [
        "#Introduction to the Python programming language"
      ]
    },
    {
      "cell_type": "markdown",
      "metadata": {
        "id": "UbmZgkgp0sxY",
        "colab_type": "text"
      },
      "source": [
        "Python is one of many ways to program. Actually, in scientific research, we mainly us Python or R, which is a statistical programming language."
      ]
    },
    {
      "cell_type": "markdown",
      "metadata": {
        "id": "SHMqAi4oPtTA",
        "colab_type": "text"
      },
      "source": [
        "## Hello World"
      ]
    },
    {
      "cell_type": "code",
      "metadata": {
        "id": "7IQAefG_0qnO",
        "colab_type": "code",
        "colab": {}
      },
      "source": [
        "print(\"Hello World!\")"
      ],
      "execution_count": 0,
      "outputs": []
    },
    {
      "cell_type": "markdown",
      "metadata": {
        "id": "b8drzlyMP__P",
        "colab_type": "text"
      },
      "source": [
        "Try different print statements!"
      ]
    },
    {
      "cell_type": "markdown",
      "metadata": {
        "id": "zk55x2yvQMBj",
        "colab_type": "text"
      },
      "source": [
        "## Calculating"
      ]
    },
    {
      "cell_type": "code",
      "metadata": {
        "id": "2bWkDBRUQLT0",
        "colab_type": "code",
        "colab": {}
      },
      "source": [
        "2+4"
      ],
      "execution_count": 0,
      "outputs": []
    },
    {
      "cell_type": "code",
      "metadata": {
        "id": "nx4w3xtMQP6R",
        "colab_type": "code",
        "colab": {}
      },
      "source": [
        "1/7"
      ],
      "execution_count": 0,
      "outputs": []
    },
    {
      "cell_type": "markdown",
      "metadata": {
        "id": "tSJG3QBoQUFd",
        "colab_type": "text"
      },
      "source": [
        "What does this statement do?"
      ]
    },
    {
      "cell_type": "code",
      "metadata": {
        "id": "cbej8LR9QWOP",
        "colab_type": "code",
        "colab": {}
      },
      "source": [
        "10%3"
      ],
      "execution_count": 0,
      "outputs": []
    },
    {
      "cell_type": "markdown",
      "metadata": {
        "id": "73uWBKHuQeyg",
        "colab_type": "text"
      },
      "source": [
        "## Variables"
      ]
    },
    {
      "cell_type": "markdown",
      "metadata": {
        "id": "o1pxs-leQhha",
        "colab_type": "text"
      },
      "source": [
        "As in your math class, you can use variables to store numbers."
      ]
    },
    {
      "cell_type": "code",
      "metadata": {
        "id": "CBbymdDSQmTI",
        "colab_type": "code",
        "colab": {}
      },
      "source": [
        "x = 10\n",
        "print(x)"
      ],
      "execution_count": 0,
      "outputs": []
    },
    {
      "cell_type": "code",
      "metadata": {
        "id": "XwxAEapqQrWL",
        "colab_type": "code",
        "colab": {}
      },
      "source": [
        "x = 10\n",
        "y = 5\n",
        "\n",
        "z = x + y\n",
        "\n",
        "print(z/3)"
      ],
      "execution_count": 0,
      "outputs": []
    },
    {
      "cell_type": "markdown",
      "metadata": {
        "id": "9P0agqCQx0uZ",
        "colab_type": "text"
      },
      "source": [
        "Variables can also store text."
      ]
    },
    {
      "cell_type": "code",
      "metadata": {
        "id": "BGamBjRyx2n1",
        "colab_type": "code",
        "colab": {}
      },
      "source": [
        "a = \"KVG\"\n",
        "print(a)"
      ],
      "execution_count": 0,
      "outputs": []
    },
    {
      "cell_type": "markdown",
      "metadata": {
        "id": "Tvz-TlOeyCuL",
        "colab_type": "text"
      },
      "source": [
        "Try to mix numbers and texts (strings)."
      ]
    },
    {
      "cell_type": "code",
      "metadata": {
        "id": "I8yk3eGWyE2C",
        "colab_type": "code",
        "colab": {}
      },
      "source": [
        "a = \"KVG\"\n",
        "x = 5\n",
        "\n",
        "print(a * x)"
      ],
      "execution_count": 0,
      "outputs": []
    },
    {
      "cell_type": "markdown",
      "metadata": {
        "id": "Ud9V80OpyQt1",
        "colab_type": "text"
      },
      "source": [
        "What happens when you try to multiply to strings."
      ]
    },
    {
      "cell_type": "code",
      "metadata": {
        "id": "Ses_wttcyYXY",
        "colab_type": "code",
        "colab": {}
      },
      "source": [
        "print(a * a)"
      ],
      "execution_count": 0,
      "outputs": []
    },
    {
      "cell_type": "markdown",
      "metadata": {
        "id": "UP8CPt9WywLD",
        "colab_type": "text"
      },
      "source": [
        "If you want to comment your code:"
      ]
    },
    {
      "cell_type": "code",
      "metadata": {
        "id": "UF4Eidmzyyr5",
        "colab_type": "code",
        "colab": {}
      },
      "source": [
        "# This is just a comment, which is not executed as code.\n",
        "print(\"This is not a comment...\")"
      ],
      "execution_count": 0,
      "outputs": []
    },
    {
      "cell_type": "markdown",
      "metadata": {
        "id": "vU1sFo_SzZ0R",
        "colab_type": "text"
      },
      "source": [
        "## Functions\n",
        "Python delivers some predefined functions that fulfill various tasks."
      ]
    },
    {
      "cell_type": "code",
      "metadata": {
        "id": "BVUOCEqfzlzm",
        "colab_type": "code",
        "colab": {}
      },
      "source": [
        "# a function you already know\n",
        "print(\"KVG\")"
      ],
      "execution_count": 0,
      "outputs": []
    },
    {
      "cell_type": "code",
      "metadata": {
        "id": "NDawmBGy0Lwu",
        "colab_type": "code",
        "colab": {}
      },
      "source": [
        "a = \"KVG\"\n",
        "\n",
        "# a new function within the print function\n",
        "print(len(\"Hello World!\"))\n",
        "print(len(a))"
      ],
      "execution_count": 0,
      "outputs": []
    },
    {
      "cell_type": "markdown",
      "metadata": {
        "id": "EmHpp28u0fwF",
        "colab_type": "text"
      },
      "source": [
        "You can of course define your own functions."
      ]
    },
    {
      "cell_type": "code",
      "metadata": {
        "id": "tl0BPzbN0i7d",
        "colab_type": "code",
        "colab": {}
      },
      "source": [
        "# define a function\n",
        "def my_function():\n",
        "  print(\"This is my own function.\")\n",
        "\n",
        "# call the function\n",
        "my_function()"
      ],
      "execution_count": 0,
      "outputs": []
    },
    {
      "cell_type": "markdown",
      "metadata": {
        "id": "2pYK58Sp02hJ",
        "colab_type": "text"
      },
      "source": [
        "You can pass arguments to your self-defined function."
      ]
    },
    {
      "cell_type": "code",
      "metadata": {
        "id": "6i3d-kEW0vl9",
        "colab_type": "code",
        "colab": {}
      },
      "source": [
        "# define a function with arguments\n",
        "def quote(sentence):\n",
        "  print(\">>\" + sentence + \"<<\")\n",
        "\n",
        "quote(\"This is a quote.\")"
      ],
      "execution_count": 0,
      "outputs": []
    },
    {
      "cell_type": "markdown",
      "metadata": {
        "id": "nqRfXHxB1XUa",
        "colab_type": "text"
      },
      "source": [
        "A function can return a value."
      ]
    },
    {
      "cell_type": "code",
      "metadata": {
        "id": "ukKKHFhl1Wol",
        "colab_type": "code",
        "colab": {}
      },
      "source": [
        "# define a function with argument and return value\n",
        "def square(a):\n",
        "  b = a * a\n",
        "  return(b)\n",
        "\n",
        "print(square(10))"
      ],
      "execution_count": 0,
      "outputs": []
    },
    {
      "cell_type": "code",
      "metadata": {
        "id": "KzVVNEAf1wej",
        "colab_type": "code",
        "colab": {}
      },
      "source": [
        "# capture the return value\n",
        "c = square(10)\n",
        "\n",
        "print(\"The result is \" + str(c) + \".\")"
      ],
      "execution_count": 0,
      "outputs": []
    },
    {
      "cell_type": "markdown",
      "metadata": {
        "id": "rIZwVpRm2ES4",
        "colab_type": "text"
      },
      "source": [
        "### EXTRA: Variable scope and functions\n",
        "Evaluate the difference of the two following code cells."
      ]
    },
    {
      "cell_type": "code",
      "metadata": {
        "id": "Odtg3cNZ2MLI",
        "colab_type": "code",
        "colab": {}
      },
      "source": [
        "eggs = 10\n",
        "\n",
        "def double_eggs(eggs):\n",
        "  return(2 * eggs)\n",
        "\n",
        "print(double_eggs(2))"
      ],
      "execution_count": 0,
      "outputs": []
    },
    {
      "cell_type": "code",
      "metadata": {
        "id": "Yys4iw9a2ras",
        "colab_type": "code",
        "colab": {}
      },
      "source": [
        "eggs = 10\n",
        "\n",
        "def double_eggs(local_eggs):\n",
        "  return(2 * eggs)\n",
        "\n",
        "print(double_eggs(2))"
      ],
      "execution_count": 0,
      "outputs": []
    },
    {
      "cell_type": "markdown",
      "metadata": {
        "id": "Awc7vc2126hW",
        "colab_type": "text"
      },
      "source": [
        "What is a global and what is a local variable?\n",
        "\n",
        "Should you prefer local or global variables?"
      ]
    },
    {
      "cell_type": "markdown",
      "metadata": {
        "id": "UkBMYfBA3JT5",
        "colab_type": "text"
      },
      "source": [
        "## Decisions\n",
        "So far your program runs from the beginning, i.e. the first line, to the end, i.e. the last line. Let's change this."
      ]
    },
    {
      "cell_type": "code",
      "metadata": {
        "id": "_RTAiO0d3Vj-",
        "colab_type": "code",
        "colab": {}
      },
      "source": [
        "a = 10\n",
        "\n",
        "if (a == 10):\n",
        "  print(\"a is 10\")\n",
        "else:\n",
        "  print(\"a is not 10\")"
      ],
      "execution_count": 0,
      "outputs": []
    },
    {
      "cell_type": "markdown",
      "metadata": {
        "id": "WHSTKyho3hEn",
        "colab_type": "text"
      },
      "source": [
        "Play a little bit with the code above. For example, use other operators or other conditions."
      ]
    },
    {
      "cell_type": "markdown",
      "metadata": {
        "id": "VXYNGKVc3rcN",
        "colab_type": "text"
      },
      "source": [
        "There is more decision stuff."
      ]
    },
    {
      "cell_type": "code",
      "metadata": {
        "id": "FFPBLd413to2",
        "colab_type": "code",
        "colab": {}
      },
      "source": [
        "a = 10\n",
        "\n",
        "if (a < 10):\n",
        "  print(\"a is smaller than 10.\")\n",
        "elif (a > 10):\n",
        "  print(\"a is greater than 10.\")\n",
        "else:\n",
        "  print(\"Well, a is 10.\")"
      ],
      "execution_count": 0,
      "outputs": []
    },
    {
      "cell_type": "markdown",
      "metadata": {
        "id": "anFfcX9o4M74",
        "colab_type": "text"
      },
      "source": [
        "## Loops"
      ]
    },
    {
      "cell_type": "markdown",
      "metadata": {
        "id": "kIJSFeLz4Pao",
        "colab_type": "text"
      },
      "source": [
        "If you want to repeat a piece of code several times, you can use loop statements.\n",
        "\n",
        "The `for` loop repeats code for a defined number of loops."
      ]
    },
    {
      "cell_type": "code",
      "metadata": {
        "id": "ds8ewG1D4e_t",
        "colab_type": "code",
        "colab": {}
      },
      "source": [
        "for i in range(10):\n",
        "  print(i * i)"
      ],
      "execution_count": 0,
      "outputs": []
    },
    {
      "cell_type": "code",
      "metadata": {
        "id": "GfXOQmbs43WB",
        "colab_type": "code",
        "colab": {}
      },
      "source": [
        "for k in [1, 2, 3]:\n",
        "  print(k)"
      ],
      "execution_count": 0,
      "outputs": []
    },
    {
      "cell_type": "markdown",
      "metadata": {
        "id": "nOnijv5x4-pj",
        "colab_type": "text"
      },
      "source": [
        "The `while` loop repeats code while a condition is fulfilled."
      ]
    },
    {
      "cell_type": "code",
      "metadata": {
        "id": "02qY4v0l2nDT",
        "colab_type": "code",
        "colab": {}
      },
      "source": [
        "x = 0\n",
        "\n",
        "while (x < 5):\n",
        "  print(x)\n",
        "  x = x + 1"
      ],
      "execution_count": 0,
      "outputs": []
    },
    {
      "cell_type": "markdown",
      "metadata": {
        "id": "R08XquC13eOT",
        "colab_type": "text"
      },
      "source": [
        "## Combining decisions and loops"
      ]
    },
    {
      "cell_type": "code",
      "metadata": {
        "id": "sSBw8cSm28Ti",
        "colab_type": "code",
        "colab": {}
      },
      "source": [
        "for i in range(1, 10):\n",
        "  if (i % 2 == 0):\n",
        "    print(str(i) + \" is even.\")\n",
        "  else:\n",
        "    print(str(i) + \" is odd.\")"
      ],
      "execution_count": 0,
      "outputs": []
    },
    {
      "cell_type": "markdown",
      "metadata": {
        "id": "IgcXjIn125ja",
        "colab_type": "text"
      },
      "source": [
        "## Tasks\n",
        "Write a program that calculates and prints the square of each number between 1 and 10."
      ]
    },
    {
      "cell_type": "code",
      "metadata": {
        "id": "zmttZxWV3vaL",
        "colab_type": "code",
        "colab": {}
      },
      "source": [
        ""
      ],
      "execution_count": 0,
      "outputs": []
    },
    {
      "cell_type": "markdown",
      "metadata": {
        "id": "lGLdb-ls3v3t",
        "colab_type": "text"
      },
      "source": [
        "Write a program that crashes your browser."
      ]
    },
    {
      "cell_type": "code",
      "metadata": {
        "id": "dDZCehaJ35nu",
        "colab_type": "code",
        "colab": {}
      },
      "source": [
        ""
      ],
      "execution_count": 0,
      "outputs": []
    },
    {
      "cell_type": "markdown",
      "metadata": {
        "id": "AiLqBBYx37dV",
        "colab_type": "text"
      },
      "source": [
        "## External code\n",
        "Sometimes it is very convenient to use code from other. For example, if you want to get random numbers, you do not have to write the function on your own. You can just use existing modules."
      ]
    },
    {
      "cell_type": "code",
      "metadata": {
        "id": "dBH7Zvsi4G7D",
        "colab_type": "code",
        "colab": {}
      },
      "source": [
        "# import functions that were written by others\n",
        "import random\n",
        "\n",
        "# run this code several times\n",
        "random.randint(1, 10)"
      ],
      "execution_count": 0,
      "outputs": []
    },
    {
      "cell_type": "markdown",
      "metadata": {
        "id": "RJ0n2Uv24h3J",
        "colab_type": "text"
      },
      "source": [
        "## Tasks\n",
        "Write a program that calculates and prints 100 random numbers between 1 and 100."
      ]
    },
    {
      "cell_type": "code",
      "metadata": {
        "id": "wcwCXyqF4nsi",
        "colab_type": "code",
        "colab": {}
      },
      "source": [
        ""
      ],
      "execution_count": 0,
      "outputs": []
    },
    {
      "cell_type": "markdown",
      "metadata": {
        "id": "5atH-Hxj4ttI",
        "colab_type": "text"
      },
      "source": [
        "## Lists\n",
        "A list is a data type like a number or a string."
      ]
    },
    {
      "cell_type": "code",
      "metadata": {
        "id": "gUjDuOBu435d",
        "colab_type": "code",
        "colab": {}
      },
      "source": [
        "# this creates a simple list\n",
        "l = [1, 2, 3, 4]\n",
        "\n",
        "print(l)\n",
        "print(len(l))"
      ],
      "execution_count": 0,
      "outputs": []
    },
    {
      "cell_type": "code",
      "metadata": {
        "id": "XTBLjYRi4-AD",
        "colab_type": "code",
        "colab": {}
      },
      "source": [
        "# you can loop through a list\n",
        "for i in l:\n",
        "  print(i)"
      ],
      "execution_count": 0,
      "outputs": []
    },
    {
      "cell_type": "code",
      "metadata": {
        "id": "EeQjjJ7w5Pix",
        "colab_type": "code",
        "colab": {}
      },
      "source": [
        "# lists can also contain strings\n",
        "string_list = [\"K\", \"V\", \"Gymnasium\"]\n",
        "\n",
        "for s in string_list:\n",
        "  print(s)"
      ],
      "execution_count": 0,
      "outputs": []
    },
    {
      "cell_type": "code",
      "metadata": {
        "id": "TqheSAt35gPY",
        "colab_type": "code",
        "colab": {}
      },
      "source": [
        "# we can access single elements of a list by an index\n",
        "print(string_list[0])\n",
        "print(string_list[2])"
      ],
      "execution_count": 0,
      "outputs": []
    },
    {
      "cell_type": "code",
      "metadata": {
        "id": "T2bhefDG5t6D",
        "colab_type": "code",
        "colab": {}
      },
      "source": [
        "# and python also knows negative indices\n",
        "print(string_list[-1])"
      ],
      "execution_count": 0,
      "outputs": []
    },
    {
      "cell_type": "code",
      "metadata": {
        "id": "98F9Tu5f50bB",
        "colab_type": "code",
        "colab": {}
      },
      "source": [
        "# or index ranges, which is called a list slice\n",
        "print(string_list[0:2])"
      ],
      "execution_count": 0,
      "outputs": []
    },
    {
      "cell_type": "markdown",
      "metadata": {
        "id": "350J7v5o6OAI",
        "colab_type": "text"
      },
      "source": [
        "Lists can always be changed on the fly."
      ]
    },
    {
      "cell_type": "code",
      "metadata": {
        "id": "x8zZF61Y6P9o",
        "colab_type": "code",
        "colab": {}
      },
      "source": [
        "string_list = [\"K\", \"V\", \"Gymnasium\"]\n",
        "\n",
        "# replace the last list element\n",
        "string_list[2] = \"School\"\n",
        "print(string_list)"
      ],
      "execution_count": 0,
      "outputs": []
    },
    {
      "cell_type": "code",
      "metadata": {
        "id": "v1_BxZF56aH1",
        "colab_type": "code",
        "colab": {}
      },
      "source": [
        "# delete a list element\n",
        "del string_list[0]\n",
        "\n",
        "print(string_list)"
      ],
      "execution_count": 0,
      "outputs": []
    },
    {
      "cell_type": "markdown",
      "metadata": {
        "id": "Mx3Tp3q16sSV",
        "colab_type": "text"
      },
      "source": [
        "### Extra: Play with lists"
      ]
    },
    {
      "cell_type": "code",
      "metadata": {
        "id": "1z0GJiaE6u8q",
        "colab_type": "code",
        "colab": {}
      },
      "source": [
        "# concatenate two lists\n",
        "# how can you make one list out of two?\n",
        "\n",
        "list1 = [1, 2, 3]\n",
        "list2 = [4, 5, 6]"
      ],
      "execution_count": 0,
      "outputs": []
    },
    {
      "cell_type": "code",
      "metadata": {
        "id": "Q4pmDZbz7AQz",
        "colab_type": "code",
        "colab": {}
      },
      "source": [
        "# check if an element is in the list\n",
        "# check if \"K\" is in the list string_list\n"
      ],
      "execution_count": 0,
      "outputs": []
    },
    {
      "cell_type": "markdown",
      "metadata": {
        "id": "3fQOUwJc7Wmc",
        "colab_type": "text"
      },
      "source": [
        "## Task\n",
        "Write a program that randomly prints elements of the following list."
      ]
    },
    {
      "cell_type": "code",
      "metadata": {
        "id": "DkLCW3r97eYy",
        "colab_type": "code",
        "colab": {}
      },
      "source": [
        "l = [\"Good morning.\",\n",
        "    \"Good afternoon\",\n",
        "    \"Good evening\",\n",
        "    \"Good night\"]\n",
        "\n"
      ],
      "execution_count": 0,
      "outputs": []
    },
    {
      "cell_type": "markdown",
      "metadata": {
        "id": "gv6jgVQT8FdU",
        "colab_type": "text"
      },
      "source": [
        "### Extra: Do you know why this two pieces of code behave differently?# "
      ]
    },
    {
      "cell_type": "code",
      "metadata": {
        "id": "3yy97flf8MBR",
        "colab_type": "code",
        "colab": {}
      },
      "source": [
        "# piece 1\n",
        "a = 42\n",
        "b = a\n",
        "a = 10\n",
        "\n",
        "print(a)\n",
        "print(b)"
      ],
      "execution_count": 0,
      "outputs": []
    },
    {
      "cell_type": "code",
      "metadata": {
        "id": "T4pM0RQw8WE0",
        "colab_type": "code",
        "colab": {}
      },
      "source": [
        "# piece 2\n",
        "a = [1, 2, 3]\n",
        "b = a\n",
        "a[0] = \"error\"\n",
        "\n",
        "print(a)\n",
        "print(b)"
      ],
      "execution_count": 0,
      "outputs": []
    }
  ]
}