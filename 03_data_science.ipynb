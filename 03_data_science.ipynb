{
  "nbformat": 4,
  "nbformat_minor": 0,
  "metadata": {
    "colab": {
      "name": "03_data_science.ipynb",
      "version": "0.3.2",
      "provenance": [],
      "collapsed_sections": []
    },
    "kernelspec": {
      "name": "python3",
      "display_name": "Python 3"
    }
  },
  "cells": [
    {
      "cell_type": "markdown",
      "metadata": {
        "id": "tXeQKdKACY81",
        "colab_type": "text"
      },
      "source": [
        "# Data science with Python"
      ]
    },
    {
      "cell_type": "markdown",
      "metadata": {
        "id": "ChW45yz6R2rq",
        "colab_type": "text"
      },
      "source": [
        "Here, we will work with a so called proteomics data set from breast cancer research.\n",
        "\n",
        "In Python, there is a module called Pandas which can be used to analyze large datasets."
      ]
    },
    {
      "cell_type": "markdown",
      "metadata": {
        "id": "d2-hmd-MT2Il",
        "colab_type": "text"
      },
      "source": [
        "## Load a dataset"
      ]
    },
    {
      "cell_type": "code",
      "metadata": {
        "id": "BTuW6UYcSBvy",
        "colab_type": "code",
        "colab": {}
      },
      "source": [
        "# import the pandas module and name it \"pd\"\n",
        "import pandas as pd\n",
        "\n",
        "# download the proteomics dataset\n",
        "url = \"https://raw.githubusercontent.com/researchschool/datalab/master/breast_cancer_study.txt\"\n",
        "\n",
        "data = pd.read_csv(url, delimiter=\"\\t\")"
      ],
      "execution_count": 0,
      "outputs": []
    },
    {
      "cell_type": "code",
      "metadata": {
        "id": "SNsqZ9yfSlg0",
        "colab_type": "code",
        "colab": {}
      },
      "source": [
        "# have a first look at the data\n",
        "data.head()"
      ],
      "execution_count": 0,
      "outputs": []
    },
    {
      "cell_type": "markdown",
      "metadata": {
        "id": "iMYAGLXySwkh",
        "colab_type": "text"
      },
      "source": [
        "What do the columns, rows and values mean?"
      ]
    },
    {
      "cell_type": "markdown",
      "metadata": {
        "id": "rNInmOwcUJ7S",
        "colab_type": "text"
      },
      "source": [
        "How big is the dataset?"
      ]
    },
    {
      "cell_type": "code",
      "metadata": {
        "id": "iuC4xrVhULXZ",
        "colab_type": "code",
        "colab": {}
      },
      "source": [
        "data.shape"
      ],
      "execution_count": 0,
      "outputs": []
    },
    {
      "cell_type": "markdown",
      "metadata": {
        "id": "YdrJI4o1UVFg",
        "colab_type": "text"
      },
      "source": [
        "`data` is an object. That means, we can call properties like `data.shape` or call functions (methods) such as `data.head()`."
      ]
    },
    {
      "cell_type": "markdown",
      "metadata": {
        "id": "jow07h3KU8-O",
        "colab_type": "text"
      },
      "source": [
        "## Tidying up the dataset"
      ]
    },
    {
      "cell_type": "code",
      "metadata": {
        "id": "xspC4ZZzVptv",
        "colab_type": "code",
        "colab": {}
      },
      "source": [
        "# get rid of string values in the dataset\n",
        "\n",
        "# remove the descriptions\n",
        "data_no_desc = data.drop(columns=\"description\")\n",
        "data_no_desc.head()"
      ],
      "execution_count": 0,
      "outputs": []
    },
    {
      "cell_type": "code",
      "metadata": {
        "id": "eQZwnQGuWYjM",
        "colab_type": "code",
        "colab": {}
      },
      "source": [
        "# assign the protein name as row name\n",
        "data_no_desc.index = data_no_desc[\"protein\"]\n",
        "\n",
        "# show the new row names\n",
        "data_no_desc.index\n",
        "\n",
        "# delete the protein column\n",
        "data_no_desc_prot = data_no_desc.drop(columns=\"protein\")\n",
        "\n",
        "data_no_desc_prot.head()"
      ],
      "execution_count": 0,
      "outputs": []
    },
    {
      "cell_type": "markdown",
      "metadata": {
        "id": "h8dCgQ3mZE_x",
        "colab_type": "text"
      },
      "source": [
        "Now we take the log2 of all the values."
      ]
    },
    {
      "cell_type": "code",
      "metadata": {
        "id": "xqmaMyIaU_Bj",
        "colab_type": "code",
        "colab": {}
      },
      "source": [
        "# import numpy to get a lot of math functions\n",
        "import numpy as np\n",
        "\n",
        "# take the log2 of all the numbers in our data matrix\n",
        "data_log = np.log2(data_no_desc_prot)\n",
        "\n",
        "data_log.head()"
      ],
      "execution_count": 0,
      "outputs": []
    },
    {
      "cell_type": "markdown",
      "metadata": {
        "id": "YV6GVVkNdkPA",
        "colab_type": "text"
      },
      "source": [
        "## Inspecting the data"
      ]
    },
    {
      "cell_type": "code",
      "metadata": {
        "id": "BZ9pwQZUd_XZ",
        "colab_type": "code",
        "colab": {}
      },
      "source": [
        "# show the expression profile of one protein\n",
        "data_log.loc[[\"TP53\"]].T.iloc[1:].plot()"
      ],
      "execution_count": 0,
      "outputs": []
    },
    {
      "cell_type": "code",
      "metadata": {
        "id": "YaQyCTgYJsfp",
        "colab_type": "code",
        "colab": {}
      },
      "source": [
        "# show multiple proteins\n",
        "data_log.loc[[\"TP53\", \"CLPP\"]].T.iloc[1:].plot()"
      ],
      "execution_count": 0,
      "outputs": []
    },
    {
      "cell_type": "markdown",
      "metadata": {
        "id": "Bt5IMV_1KIpa",
        "colab_type": "text"
      },
      "source": [
        "## Find protein complexes in breast cancer\n",
        "\n",
        "Proteins usually do not act on their own. They form complexes with themselves or other proteins. We can find such multi-protein complexes by comparing their expression profile with each other. Complexed proteins often are coregulated meaning that their expression profile across all the tumors looks similarily."
      ]
    },
    {
      "cell_type": "code",
      "metadata": {
        "id": "iGfXajBSffqN",
        "colab_type": "code",
        "colab": {}
      },
      "source": [
        "# calculate a correlation matrix (What is that by the way?)\n",
        "corr_matrix = data_log.T.corr()\n",
        "\n",
        "# show the head of the correlation matrix\n",
        "corr_matrix.head()"
      ],
      "execution_count": 0,
      "outputs": []
    },
    {
      "cell_type": "code",
      "metadata": {
        "id": "c6TEAaiNgI_0",
        "colab_type": "code",
        "colab": {}
      },
      "source": [
        "# check if the correlation matrix is correct\n",
        "\n",
        "# a good correlation (0.83)\n",
        "data_log.loc[[\"A1BG\", \"A2M\"]].T.iloc[1:].plot()"
      ],
      "execution_count": 0,
      "outputs": []
    },
    {
      "cell_type": "code",
      "metadata": {
        "id": "_Uw51rgcgTcU",
        "colab_type": "code",
        "colab": {}
      },
      "source": [
        "# a bad correlation\n",
        "data_log.loc[[\"A1BG\", \"AAAS\"]].T.iloc[1:].plot()"
      ],
      "execution_count": 0,
      "outputs": []
    },
    {
      "cell_type": "markdown",
      "metadata": {
        "id": "JnFRtzI0gvbY",
        "colab_type": "text"
      },
      "source": [
        "### Visualise the correlation matrix"
      ]
    },
    {
      "cell_type": "code",
      "metadata": {
        "id": "1rK-4lchgxoC",
        "colab_type": "code",
        "colab": {}
      },
      "source": [
        "import seaborn as sns\n",
        "\n",
        "sns.heatmap(corr_matrix.iloc[6000:7000, 6000:7000], cmap=\"RdBu_r\")"
      ],
      "execution_count": 0,
      "outputs": []
    },
    {
      "cell_type": "markdown",
      "metadata": {
        "id": "5GutURcqieWU",
        "colab_type": "text"
      },
      "source": [
        "We cannot really see what is going on... Let's structure the data with some machine learning."
      ]
    },
    {
      "cell_type": "markdown",
      "metadata": {
        "id": "Bg_voPT6im4e",
        "colab_type": "text"
      },
      "source": [
        "### Data clustering"
      ]
    },
    {
      "cell_type": "code",
      "metadata": {
        "id": "DTMipPFuikJx",
        "colab_type": "code",
        "colab": {}
      },
      "source": [
        "sns.clustermap(corr_matrix.iloc[6000:7000, 6000:7000], cmap=\"RdBu_r\")"
      ],
      "execution_count": 0,
      "outputs": []
    },
    {
      "cell_type": "markdown",
      "metadata": {
        "id": "CY2PiYPFxXmc",
        "colab_type": "text"
      },
      "source": [
        "Let's focus on two ribosomal proteins and plot their profiles."
      ]
    },
    {
      "cell_type": "code",
      "metadata": {
        "id": "OF8UVjf8sYHT",
        "colab_type": "code",
        "colab": {}
      },
      "source": [
        "data_log.loc[[\"RPL24\", \"RPL13\"]].T.iloc[1:].plot()"
      ],
      "execution_count": 0,
      "outputs": []
    },
    {
      "cell_type": "markdown",
      "metadata": {
        "id": "D7Sepdhgp9C5",
        "colab_type": "text"
      },
      "source": [
        "## Identify different tumor groups\n",
        "\n",
        "Breast cancer comes in different subgriups that can be treated with different medications and therapy plans. Here, we try to identify these subgroups."
      ]
    },
    {
      "cell_type": "code",
      "metadata": {
        "id": "fTa49-3uqKHn",
        "colab_type": "code",
        "colab": {}
      },
      "source": [
        "# cluster the tumors\n",
        "sns.clustermap(data_log, metric=\"correlation\", cmap=\"viridis\")\n"
      ],
      "execution_count": 0,
      "outputs": []
    }
  ]
}