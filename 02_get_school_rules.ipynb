{
  "nbformat": 4,
  "nbformat_minor": 0,
  "metadata": {
    "colab": {
      "name": "02_get_school_rules.ipynb",
      "version": "0.3.2",
      "provenance": [],
      "collapsed_sections": []
    },
    "kernelspec": {
      "name": "python3",
      "display_name": "Python 3"
    }
  },
  "cells": [
    {
      "cell_type": "markdown",
      "metadata": {
        "id": "iMVzuEtl-hLr",
        "colab_type": "text"
      },
      "source": [
        "# Fetch your school rules from the internet\n",
        "This program serves to demonstrate the power of Python."
      ]
    },
    {
      "cell_type": "code",
      "metadata": {
        "id": "XchBzLwZ-n50",
        "colab_type": "code",
        "colab": {}
      },
      "source": [
        "import requests\n",
        "\n",
        "# set the website url\n",
        "url = \"https://kungsholmensvastragymnasium.stockholm.se/ordningsregler\"\n",
        "\n",
        "# load the page\n",
        "page = requests.get(url)"
      ],
      "execution_count": 0,
      "outputs": []
    },
    {
      "cell_type": "code",
      "metadata": {
        "id": "LDUS3Gdy_WuZ",
        "colab_type": "code",
        "colab": {}
      },
      "source": [
        "# use a HTML parser\n",
        "from bs4 import BeautifulSoup\n",
        "\n",
        "soup = BeautifulSoup(page.content)"
      ],
      "execution_count": 0,
      "outputs": []
    },
    {
      "cell_type": "code",
      "metadata": {
        "id": "yYSF9QjyAu-3",
        "colab_type": "code",
        "colab": {}
      },
      "source": [
        "# extract the correct text from the HTML\n",
        "regler = soup.find('div',{'class': 'field-content'}).text"
      ],
      "execution_count": 0,
      "outputs": []
    },
    {
      "cell_type": "code",
      "metadata": {
        "id": "xqN4gDIsBmm1",
        "colab_type": "code",
        "colab": {}
      },
      "source": [
        "print(regler)"
      ],
      "execution_count": 0,
      "outputs": []
    },
    {
      "cell_type": "markdown",
      "metadata": {
        "id": "0cte-ckXCpKE",
        "colab_type": "text"
      },
      "source": [
        "## Extra\n",
        "Can you write a function that accepts the url and the class name as parameters and gives you back the text?"
      ]
    },
    {
      "cell_type": "code",
      "metadata": {
        "id": "jSJliohuCypr",
        "colab_type": "code",
        "colab": {}
      },
      "source": [
        "def scrape_web(url, class_name):\n",
        "  # your code here\n",
        "  return(text)"
      ],
      "execution_count": 0,
      "outputs": []
    }
  ]
}